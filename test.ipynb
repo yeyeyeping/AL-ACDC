{
 "cells": [
  {
   "cell_type": "code",
   "execution_count": 51,
   "metadata": {
    "collapsed": true,
    "ExecuteTime": {
     "end_time": "2023-07-21T15:22:52.261856522Z",
     "start_time": "2023-07-21T15:22:52.221343675Z"
    }
   },
   "outputs": [],
   "source": [
    "import pathlib\n",
    "from pathlib import Path"
   ]
  },
  {
   "cell_type": "code",
   "execution_count": 52,
   "outputs": [],
   "source": [
    "p = pathlib.Path(\"/home/yeep/project/py/AL-ACDC/data/ISIC/images\")"
   ],
   "metadata": {
    "collapsed": false,
    "ExecuteTime": {
     "end_time": "2023-07-21T15:22:52.508634777Z",
     "start_time": "2023-07-21T15:22:52.506896586Z"
    }
   }
  },
  {
   "cell_type": "code",
   "execution_count": 53,
   "outputs": [
    {
     "data": {
      "text/plain": "2594"
     },
     "execution_count": 53,
     "metadata": {},
     "output_type": "execute_result"
    }
   ],
   "source": [
    "len(list(p.glob(\"*.jpg\")))"
   ],
   "metadata": {
    "collapsed": false,
    "ExecuteTime": {
     "end_time": "2023-07-21T15:22:52.733338698Z",
     "start_time": "2023-07-21T15:22:52.728865003Z"
    }
   }
  },
  {
   "cell_type": "code",
   "execution_count": 54,
   "outputs": [],
   "source": [
    "from skimage.io import imread\n",
    "import numpy as np"
   ],
   "metadata": {
    "collapsed": false,
    "ExecuteTime": {
     "end_time": "2023-07-21T15:22:52.962824783Z",
     "start_time": "2023-07-21T15:22:52.961249051Z"
    }
   }
  },
  {
   "cell_type": "code",
   "execution_count": 55,
   "outputs": [],
   "source": [
    "p = list(Path(\"/home/yeep/project/py/AL-ACDC/data/ISIC/images\").glob(\"*.jpg\"))\n",
    "num_data = len(p)"
   ],
   "metadata": {
    "collapsed": false,
    "ExecuteTime": {
     "end_time": "2023-07-21T15:22:53.229046480Z",
     "start_time": "2023-07-21T15:22:53.224018024Z"
    }
   }
  },
  {
   "cell_type": "code",
   "execution_count": 56,
   "outputs": [
    {
     "data": {
      "text/plain": "2594"
     },
     "execution_count": 56,
     "metadata": {},
     "output_type": "execute_result"
    }
   ],
   "source": [
    "num_data"
   ],
   "metadata": {
    "collapsed": false,
    "ExecuteTime": {
     "end_time": "2023-07-21T15:22:53.605784878Z",
     "start_time": "2023-07-21T15:22:53.602773548Z"
    }
   }
  },
  {
   "cell_type": "code",
   "execution_count": 57,
   "outputs": [],
   "source": [
    "train, val = 0.7, 0.2\n",
    "train, val = int(num_data * train), int(num_data * val)\n",
    "test = num_data - train - val"
   ],
   "metadata": {
    "collapsed": false,
    "ExecuteTime": {
     "end_time": "2023-07-21T15:22:53.946460751Z",
     "start_time": "2023-07-21T15:22:53.941614587Z"
    }
   }
  },
  {
   "cell_type": "code",
   "execution_count": 58,
   "outputs": [
    {
     "data": {
      "text/plain": "(1815, 518, 261)"
     },
     "execution_count": 58,
     "metadata": {},
     "output_type": "execute_result"
    }
   ],
   "source": [
    "train,val,test"
   ],
   "metadata": {
    "collapsed": false,
    "ExecuteTime": {
     "end_time": "2023-07-21T15:22:54.688438125Z",
     "start_time": "2023-07-21T15:22:54.686450532Z"
    }
   }
  },
  {
   "cell_type": "code",
   "execution_count": 59,
   "outputs": [],
   "source": [
    "train, val, test = p[:train], p[train:train + val], p[train + val:train + val + test]"
   ],
   "metadata": {
    "collapsed": false,
    "ExecuteTime": {
     "end_time": "2023-07-21T15:22:55.405356902Z",
     "start_time": "2023-07-21T15:22:55.400721876Z"
    }
   }
  },
  {
   "cell_type": "code",
   "execution_count": 60,
   "outputs": [],
   "source": [
    "import shutil"
   ],
   "metadata": {
    "collapsed": false,
    "ExecuteTime": {
     "end_time": "2023-07-21T15:22:55.946079302Z",
     "start_time": "2023-07-21T15:22:55.942287859Z"
    }
   }
  },
  {
   "cell_type": "code",
   "execution_count": 63,
   "outputs": [],
   "source": [
    "for img in train:\n",
    "    shutil.copy(img, \"/home/yeep/project/py/AL-ACDC/data/ISICPreprocessed/train/images/\"+img.name)\n",
    "    mask_name = img.name[:-4]+\"_segmentation.png\"\n",
    "    shutil.copy(\"/home/yeep/project/py/AL-ACDC/data/ISIC/mask/\"+mask_name,\"/home/yeep/project/py/AL-ACDC/data/ISICPreprocessed/train/mask/\"+mask_name)"
   ],
   "metadata": {
    "collapsed": false,
    "ExecuteTime": {
     "end_time": "2023-07-21T15:24:52.847536844Z",
     "start_time": "2023-07-21T15:24:40.380170723Z"
    }
   }
  },
  {
   "cell_type": "code",
   "execution_count": 64,
   "outputs": [],
   "source": [
    "for img in val:\n",
    "    shutil.copy(img, \"/home/yeep/project/py/AL-ACDC/data/ISICPreprocessed/val/images/\"+img.name)\n",
    "    mask_name = img.name[:-4]+\"_segmentation.png\"\n",
    "    shutil.copy(\"/home/yeep/project/py/AL-ACDC/data/ISIC/mask/\"+mask_name,\"/home/yeep/project/py/AL-ACDC/data/ISICPreprocessed/val/mask/\"+mask_name)"
   ],
   "metadata": {
    "collapsed": false,
    "ExecuteTime": {
     "end_time": "2023-07-21T15:24:56.467764326Z",
     "start_time": "2023-07-21T15:24:52.927274602Z"
    }
   }
  },
  {
   "cell_type": "code",
   "execution_count": 65,
   "outputs": [],
   "source": [
    "for img in test:\n",
    "    shutil.copy(img, \"/home/yeep/project/py/AL-ACDC/data/ISICPreprocessed/test/images/\"+img.name)\n",
    "    mask_name = img.name[:-4]+\"_segmentation.png\"\n",
    "    shutil.copy(\"/home/yeep/project/py/AL-ACDC/data/ISIC/mask/\"+mask_name,\"/home/yeep/project/py/AL-ACDC/data/ISICPreprocessed/test/mask/\"+mask_name)"
   ],
   "metadata": {
    "collapsed": false,
    "ExecuteTime": {
     "end_time": "2023-07-21T15:24:58.257627231Z",
     "start_time": "2023-07-21T15:24:56.469120905Z"
    }
   }
  },
  {
   "cell_type": "code",
   "execution_count": 2,
   "outputs": [],
   "source": [
    "from torch.nn import Conv2d\n",
    "import torch"
   ],
   "metadata": {
    "collapsed": false,
    "ExecuteTime": {
     "end_time": "2023-07-26T03:07:10.674126079Z",
     "start_time": "2023-07-26T03:07:10.626792431Z"
    }
   }
  },
  {
   "cell_type": "code",
   "execution_count": 3,
   "outputs": [],
   "source": [
    "conv = Conv2d(4,16,kernel_size=1,groups=4)\n",
    "data = torch.ones((4,32,32))"
   ],
   "metadata": {
    "collapsed": false,
    "ExecuteTime": {
     "end_time": "2023-07-26T03:07:23.835443720Z",
     "start_time": "2023-07-26T03:07:23.832907963Z"
    }
   }
  },
  {
   "cell_type": "code",
   "execution_count": 5,
   "outputs": [],
   "source": [
    "a = conv(data)"
   ],
   "metadata": {
    "collapsed": false,
    "ExecuteTime": {
     "end_time": "2023-07-26T03:07:32.881678301Z",
     "start_time": "2023-07-26T03:07:32.869339276Z"
    }
   }
  },
  {
   "cell_type": "code",
   "execution_count": 6,
   "outputs": [
    {
     "data": {
      "text/plain": "torch.Size([16, 32, 32])"
     },
     "execution_count": 6,
     "metadata": {},
     "output_type": "execute_result"
    }
   ],
   "source": [
    "a.shape"
   ],
   "metadata": {
    "collapsed": false,
    "ExecuteTime": {
     "end_time": "2023-07-26T03:07:34.383035808Z",
     "start_time": "2023-07-26T03:07:34.380437820Z"
    }
   }
  },
  {
   "cell_type": "code",
   "execution_count": 7,
   "outputs": [
    {
     "data": {
      "text/plain": "tensor([[[-0.8331, -0.8331, -0.8331,  ..., -0.8331, -0.8331, -0.8331],\n         [-0.8331, -0.8331, -0.8331,  ..., -0.8331, -0.8331, -0.8331],\n         [-0.8331, -0.8331, -0.8331,  ..., -0.8331, -0.8331, -0.8331],\n         ...,\n         [-0.8331, -0.8331, -0.8331,  ..., -0.8331, -0.8331, -0.8331],\n         [-0.8331, -0.8331, -0.8331,  ..., -0.8331, -0.8331, -0.8331],\n         [-0.8331, -0.8331, -0.8331,  ..., -0.8331, -0.8331, -0.8331]],\n\n        [[-1.7020, -1.7020, -1.7020,  ..., -1.7020, -1.7020, -1.7020],\n         [-1.7020, -1.7020, -1.7020,  ..., -1.7020, -1.7020, -1.7020],\n         [-1.7020, -1.7020, -1.7020,  ..., -1.7020, -1.7020, -1.7020],\n         ...,\n         [-1.7020, -1.7020, -1.7020,  ..., -1.7020, -1.7020, -1.7020],\n         [-1.7020, -1.7020, -1.7020,  ..., -1.7020, -1.7020, -1.7020],\n         [-1.7020, -1.7020, -1.7020,  ..., -1.7020, -1.7020, -1.7020]],\n\n        [[ 1.1122,  1.1122,  1.1122,  ...,  1.1122,  1.1122,  1.1122],\n         [ 1.1122,  1.1122,  1.1122,  ...,  1.1122,  1.1122,  1.1122],\n         [ 1.1122,  1.1122,  1.1122,  ...,  1.1122,  1.1122,  1.1122],\n         ...,\n         [ 1.1122,  1.1122,  1.1122,  ...,  1.1122,  1.1122,  1.1122],\n         [ 1.1122,  1.1122,  1.1122,  ...,  1.1122,  1.1122,  1.1122],\n         [ 1.1122,  1.1122,  1.1122,  ...,  1.1122,  1.1122,  1.1122]],\n\n        [[ 0.4084,  0.4084,  0.4084,  ...,  0.4084,  0.4084,  0.4084],\n         [ 0.4084,  0.4084,  0.4084,  ...,  0.4084,  0.4084,  0.4084],\n         [ 0.4084,  0.4084,  0.4084,  ...,  0.4084,  0.4084,  0.4084],\n         ...,\n         [ 0.4084,  0.4084,  0.4084,  ...,  0.4084,  0.4084,  0.4084],\n         [ 0.4084,  0.4084,  0.4084,  ...,  0.4084,  0.4084,  0.4084],\n         [ 0.4084,  0.4084,  0.4084,  ...,  0.4084,  0.4084,  0.4084]]],\n       grad_fn=<SliceBackward0>)"
     },
     "execution_count": 7,
     "metadata": {},
     "output_type": "execute_result"
    }
   ],
   "source": [
    "a[:4]"
   ],
   "metadata": {
    "collapsed": false,
    "ExecuteTime": {
     "end_time": "2023-07-26T03:07:54.172179944Z",
     "start_time": "2023-07-26T03:07:54.162218975Z"
    }
   }
  },
  {
   "cell_type": "code",
   "execution_count": 8,
   "outputs": [
    {
     "data": {
      "text/plain": "tensor([[[-1.3469, -1.3469, -1.3469,  ..., -1.3469, -1.3469, -1.3469],\n         [-1.3469, -1.3469, -1.3469,  ..., -1.3469, -1.3469, -1.3469],\n         [-1.3469, -1.3469, -1.3469,  ..., -1.3469, -1.3469, -1.3469],\n         ...,\n         [-1.3469, -1.3469, -1.3469,  ..., -1.3469, -1.3469, -1.3469],\n         [-1.3469, -1.3469, -1.3469,  ..., -1.3469, -1.3469, -1.3469],\n         [-1.3469, -1.3469, -1.3469,  ..., -1.3469, -1.3469, -1.3469]],\n\n        [[-0.7676, -0.7676, -0.7676,  ..., -0.7676, -0.7676, -0.7676],\n         [-0.7676, -0.7676, -0.7676,  ..., -0.7676, -0.7676, -0.7676],\n         [-0.7676, -0.7676, -0.7676,  ..., -0.7676, -0.7676, -0.7676],\n         ...,\n         [-0.7676, -0.7676, -0.7676,  ..., -0.7676, -0.7676, -0.7676],\n         [-0.7676, -0.7676, -0.7676,  ..., -0.7676, -0.7676, -0.7676],\n         [-0.7676, -0.7676, -0.7676,  ..., -0.7676, -0.7676, -0.7676]],\n\n        [[ 0.0161,  0.0161,  0.0161,  ...,  0.0161,  0.0161,  0.0161],\n         [ 0.0161,  0.0161,  0.0161,  ...,  0.0161,  0.0161,  0.0161],\n         [ 0.0161,  0.0161,  0.0161,  ...,  0.0161,  0.0161,  0.0161],\n         ...,\n         [ 0.0161,  0.0161,  0.0161,  ...,  0.0161,  0.0161,  0.0161],\n         [ 0.0161,  0.0161,  0.0161,  ...,  0.0161,  0.0161,  0.0161],\n         [ 0.0161,  0.0161,  0.0161,  ...,  0.0161,  0.0161,  0.0161]],\n\n        [[ 0.4519,  0.4519,  0.4519,  ...,  0.4519,  0.4519,  0.4519],\n         [ 0.4519,  0.4519,  0.4519,  ...,  0.4519,  0.4519,  0.4519],\n         [ 0.4519,  0.4519,  0.4519,  ...,  0.4519,  0.4519,  0.4519],\n         ...,\n         [ 0.4519,  0.4519,  0.4519,  ...,  0.4519,  0.4519,  0.4519],\n         [ 0.4519,  0.4519,  0.4519,  ...,  0.4519,  0.4519,  0.4519],\n         [ 0.4519,  0.4519,  0.4519,  ...,  0.4519,  0.4519,  0.4519]]],\n       grad_fn=<SliceBackward0>)"
     },
     "execution_count": 8,
     "metadata": {},
     "output_type": "execute_result"
    }
   ],
   "source": [
    "a[4:8]"
   ],
   "metadata": {
    "collapsed": false,
    "ExecuteTime": {
     "end_time": "2023-07-26T03:07:59.406039329Z",
     "start_time": "2023-07-26T03:07:59.403193864Z"
    }
   }
  },
  {
   "cell_type": "code",
   "execution_count": 44,
   "outputs": [],
   "source": [
    "a = torch.ones(16,4,24,24).cuda()"
   ],
   "metadata": {
    "collapsed": false,
    "ExecuteTime": {
     "end_time": "2023-07-26T07:18:19.195064619Z",
     "start_time": "2023-07-26T07:18:18.885633346Z"
    }
   }
  },
  {
   "cell_type": "code",
   "execution_count": 45,
   "outputs": [],
   "source": [
    "a[:,1] = a[:,0]*2\n",
    "a[:,2] = a[:,0]*3\n",
    "a[:,3] = a[:,0]*4"
   ],
   "metadata": {
    "collapsed": false,
    "ExecuteTime": {
     "end_time": "2023-07-26T07:18:19.201113501Z",
     "start_time": "2023-07-26T07:18:19.196417265Z"
    }
   }
  },
  {
   "cell_type": "code",
   "execution_count": 46,
   "outputs": [
    {
     "ename": "NotImplementedError",
     "evalue": "Could not run 'aten::channel_shuffle' with arguments from the 'CUDA' backend. This could be because the operator doesn't exist for this backend, or was omitted during the selective/custom build process (if using custom build). If you are a Facebook employee using PyTorch on mobile, please visit https://fburl.com/ptmfixes for possible resolutions. 'aten::channel_shuffle' is only available for these backends: [CPU, QuantizedCPU, BackendSelect, Python, FuncTorchDynamicLayerBackMode, Functionalize, Named, Conjugate, Negative, ZeroTensor, ADInplaceOrView, AutogradOther, AutogradCPU, AutogradCUDA, AutogradHIP, AutogradXLA, AutogradMPS, AutogradIPU, AutogradXPU, AutogradHPU, AutogradVE, AutogradLazy, AutogradMeta, AutogradPrivateUse1, AutogradPrivateUse2, AutogradPrivateUse3, AutogradNestedTensor, Tracer, AutocastCPU, AutocastCUDA, FuncTorchBatched, FuncTorchVmapMode, Batched, VmapMode, FuncTorchGradWrapper, PythonTLSSnapshot, FuncTorchDynamicLayerFrontMode, PythonDispatcher].\n\nCPU: registered at aten/src/ATen/RegisterCPU.cpp:30798 [kernel]\nQuantizedCPU: registered at aten/src/ATen/RegisterQuantizedCPU.cpp:929 [kernel]\nBackendSelect: fallthrough registered at ../aten/src/ATen/core/BackendSelectFallbackKernel.cpp:3 [backend fallback]\nPython: registered at ../aten/src/ATen/core/PythonFallbackKernel.cpp:140 [backend fallback]\nFuncTorchDynamicLayerBackMode: registered at ../aten/src/ATen/functorch/DynamicLayer.cpp:488 [backend fallback]\nFunctionalize: registered at ../aten/src/ATen/FunctionalizeFallbackKernel.cpp:291 [backend fallback]\nNamed: registered at ../aten/src/ATen/core/NamedRegistrations.cpp:7 [backend fallback]\nConjugate: registered at ../aten/src/ATen/ConjugateFallback.cpp:18 [backend fallback]\nNegative: registered at ../aten/src/ATen/native/NegateFallback.cpp:18 [backend fallback]\nZeroTensor: registered at ../aten/src/ATen/ZeroTensorFallback.cpp:86 [backend fallback]\nADInplaceOrView: fallthrough registered at ../aten/src/ATen/core/VariableFallbackKernel.cpp:64 [backend fallback]\nAutogradOther: registered at ../torch/csrc/autograd/generated/VariableType_4.cpp:14636 [autograd kernel]\nAutogradCPU: registered at ../torch/csrc/autograd/generated/VariableType_4.cpp:14636 [autograd kernel]\nAutogradCUDA: registered at ../torch/csrc/autograd/generated/VariableType_4.cpp:14636 [autograd kernel]\nAutogradHIP: registered at ../torch/csrc/autograd/generated/VariableType_4.cpp:14636 [autograd kernel]\nAutogradXLA: registered at ../torch/csrc/autograd/generated/VariableType_4.cpp:14636 [autograd kernel]\nAutogradMPS: registered at ../torch/csrc/autograd/generated/VariableType_4.cpp:14636 [autograd kernel]\nAutogradIPU: registered at ../torch/csrc/autograd/generated/VariableType_4.cpp:14636 [autograd kernel]\nAutogradXPU: registered at ../torch/csrc/autograd/generated/VariableType_4.cpp:14636 [autograd kernel]\nAutogradHPU: registered at ../torch/csrc/autograd/generated/VariableType_4.cpp:14636 [autograd kernel]\nAutogradVE: registered at ../torch/csrc/autograd/generated/VariableType_4.cpp:14636 [autograd kernel]\nAutogradLazy: registered at ../torch/csrc/autograd/generated/VariableType_4.cpp:14636 [autograd kernel]\nAutogradMeta: registered at ../torch/csrc/autograd/generated/VariableType_4.cpp:14636 [autograd kernel]\nAutogradPrivateUse1: registered at ../torch/csrc/autograd/generated/VariableType_4.cpp:14636 [autograd kernel]\nAutogradPrivateUse2: registered at ../torch/csrc/autograd/generated/VariableType_4.cpp:14636 [autograd kernel]\nAutogradPrivateUse3: registered at ../torch/csrc/autograd/generated/VariableType_4.cpp:14636 [autograd kernel]\nAutogradNestedTensor: registered at ../torch/csrc/autograd/generated/VariableType_4.cpp:14636 [autograd kernel]\nTracer: registered at ../torch/csrc/autograd/generated/TraceType_4.cpp:12871 [kernel]\nAutocastCPU: fallthrough registered at ../aten/src/ATen/autocast_mode.cpp:482 [backend fallback]\nAutocastCUDA: fallthrough registered at ../aten/src/ATen/autocast_mode.cpp:324 [backend fallback]\nFuncTorchBatched: registered at ../aten/src/ATen/functorch/LegacyBatchingRegistrations.cpp:743 [backend fallback]\nFuncTorchVmapMode: fallthrough registered at ../aten/src/ATen/functorch/VmapModeRegistrations.cpp:28 [backend fallback]\nBatched: registered at ../aten/src/ATen/BatchingRegistrations.cpp:1064 [backend fallback]\nVmapMode: fallthrough registered at ../aten/src/ATen/VmapModeRegistrations.cpp:33 [backend fallback]\nFuncTorchGradWrapper: registered at ../aten/src/ATen/functorch/TensorWrapper.cpp:189 [backend fallback]\nPythonTLSSnapshot: registered at ../aten/src/ATen/core/PythonFallbackKernel.cpp:148 [backend fallback]\nFuncTorchDynamicLayerFrontMode: registered at ../aten/src/ATen/functorch/DynamicLayer.cpp:484 [backend fallback]\nPythonDispatcher: registered at ../aten/src/ATen/core/PythonFallbackKernel.cpp:144 [backend fallback]\n",
     "output_type": "error",
     "traceback": [
      "\u001B[0;31m---------------------------------------------------------------------------\u001B[0m",
      "\u001B[0;31mNotImplementedError\u001B[0m                       Traceback (most recent call last)",
      "Cell \u001B[0;32mIn[46], line 1\u001B[0m\n\u001B[0;32m----> 1\u001B[0m b\u001B[38;5;241m=\u001B[39m\u001B[43mtorch\u001B[49m\u001B[38;5;241;43m.\u001B[39;49m\u001B[43mchannel_shuffle\u001B[49m\u001B[43m(\u001B[49m\u001B[43ma\u001B[49m\u001B[43m,\u001B[49m\u001B[43mgroups\u001B[49m\u001B[38;5;241;43m=\u001B[39;49m\u001B[38;5;241;43m2\u001B[39;49m\u001B[43m)\u001B[49m\n",
      "\u001B[0;31mNotImplementedError\u001B[0m: Could not run 'aten::channel_shuffle' with arguments from the 'CUDA' backend. This could be because the operator doesn't exist for this backend, or was omitted during the selective/custom build process (if using custom build). If you are a Facebook employee using PyTorch on mobile, please visit https://fburl.com/ptmfixes for possible resolutions. 'aten::channel_shuffle' is only available for these backends: [CPU, QuantizedCPU, BackendSelect, Python, FuncTorchDynamicLayerBackMode, Functionalize, Named, Conjugate, Negative, ZeroTensor, ADInplaceOrView, AutogradOther, AutogradCPU, AutogradCUDA, AutogradHIP, AutogradXLA, AutogradMPS, AutogradIPU, AutogradXPU, AutogradHPU, AutogradVE, AutogradLazy, AutogradMeta, AutogradPrivateUse1, AutogradPrivateUse2, AutogradPrivateUse3, AutogradNestedTensor, Tracer, AutocastCPU, AutocastCUDA, FuncTorchBatched, FuncTorchVmapMode, Batched, VmapMode, FuncTorchGradWrapper, PythonTLSSnapshot, FuncTorchDynamicLayerFrontMode, PythonDispatcher].\n\nCPU: registered at aten/src/ATen/RegisterCPU.cpp:30798 [kernel]\nQuantizedCPU: registered at aten/src/ATen/RegisterQuantizedCPU.cpp:929 [kernel]\nBackendSelect: fallthrough registered at ../aten/src/ATen/core/BackendSelectFallbackKernel.cpp:3 [backend fallback]\nPython: registered at ../aten/src/ATen/core/PythonFallbackKernel.cpp:140 [backend fallback]\nFuncTorchDynamicLayerBackMode: registered at ../aten/src/ATen/functorch/DynamicLayer.cpp:488 [backend fallback]\nFunctionalize: registered at ../aten/src/ATen/FunctionalizeFallbackKernel.cpp:291 [backend fallback]\nNamed: registered at ../aten/src/ATen/core/NamedRegistrations.cpp:7 [backend fallback]\nConjugate: registered at ../aten/src/ATen/ConjugateFallback.cpp:18 [backend fallback]\nNegative: registered at ../aten/src/ATen/native/NegateFallback.cpp:18 [backend fallback]\nZeroTensor: registered at ../aten/src/ATen/ZeroTensorFallback.cpp:86 [backend fallback]\nADInplaceOrView: fallthrough registered at ../aten/src/ATen/core/VariableFallbackKernel.cpp:64 [backend fallback]\nAutogradOther: registered at ../torch/csrc/autograd/generated/VariableType_4.cpp:14636 [autograd kernel]\nAutogradCPU: registered at ../torch/csrc/autograd/generated/VariableType_4.cpp:14636 [autograd kernel]\nAutogradCUDA: registered at ../torch/csrc/autograd/generated/VariableType_4.cpp:14636 [autograd kernel]\nAutogradHIP: registered at ../torch/csrc/autograd/generated/VariableType_4.cpp:14636 [autograd kernel]\nAutogradXLA: registered at ../torch/csrc/autograd/generated/VariableType_4.cpp:14636 [autograd kernel]\nAutogradMPS: registered at ../torch/csrc/autograd/generated/VariableType_4.cpp:14636 [autograd kernel]\nAutogradIPU: registered at ../torch/csrc/autograd/generated/VariableType_4.cpp:14636 [autograd kernel]\nAutogradXPU: registered at ../torch/csrc/autograd/generated/VariableType_4.cpp:14636 [autograd kernel]\nAutogradHPU: registered at ../torch/csrc/autograd/generated/VariableType_4.cpp:14636 [autograd kernel]\nAutogradVE: registered at ../torch/csrc/autograd/generated/VariableType_4.cpp:14636 [autograd kernel]\nAutogradLazy: registered at ../torch/csrc/autograd/generated/VariableType_4.cpp:14636 [autograd kernel]\nAutogradMeta: registered at ../torch/csrc/autograd/generated/VariableType_4.cpp:14636 [autograd kernel]\nAutogradPrivateUse1: registered at ../torch/csrc/autograd/generated/VariableType_4.cpp:14636 [autograd kernel]\nAutogradPrivateUse2: registered at ../torch/csrc/autograd/generated/VariableType_4.cpp:14636 [autograd kernel]\nAutogradPrivateUse3: registered at ../torch/csrc/autograd/generated/VariableType_4.cpp:14636 [autograd kernel]\nAutogradNestedTensor: registered at ../torch/csrc/autograd/generated/VariableType_4.cpp:14636 [autograd kernel]\nTracer: registered at ../torch/csrc/autograd/generated/TraceType_4.cpp:12871 [kernel]\nAutocastCPU: fallthrough registered at ../aten/src/ATen/autocast_mode.cpp:482 [backend fallback]\nAutocastCUDA: fallthrough registered at ../aten/src/ATen/autocast_mode.cpp:324 [backend fallback]\nFuncTorchBatched: registered at ../aten/src/ATen/functorch/LegacyBatchingRegistrations.cpp:743 [backend fallback]\nFuncTorchVmapMode: fallthrough registered at ../aten/src/ATen/functorch/VmapModeRegistrations.cpp:28 [backend fallback]\nBatched: registered at ../aten/src/ATen/BatchingRegistrations.cpp:1064 [backend fallback]\nVmapMode: fallthrough registered at ../aten/src/ATen/VmapModeRegistrations.cpp:33 [backend fallback]\nFuncTorchGradWrapper: registered at ../aten/src/ATen/functorch/TensorWrapper.cpp:189 [backend fallback]\nPythonTLSSnapshot: registered at ../aten/src/ATen/core/PythonFallbackKernel.cpp:148 [backend fallback]\nFuncTorchDynamicLayerFrontMode: registered at ../aten/src/ATen/functorch/DynamicLayer.cpp:484 [backend fallback]\nPythonDispatcher: registered at ../aten/src/ATen/core/PythonFallbackKernel.cpp:144 [backend fallback]\n"
     ]
    }
   ],
   "source": [
    "b=torch.channel_shuffle(a,groups=2)"
   ],
   "metadata": {
    "collapsed": false,
    "ExecuteTime": {
     "end_time": "2023-07-26T07:18:19.325289746Z",
     "start_time": "2023-07-26T07:18:19.322179179Z"
    }
   }
  },
  {
   "cell_type": "code",
   "execution_count": 43,
   "outputs": [
    {
     "data": {
      "text/plain": "tensor([[[3., 3., 3.,  ..., 3., 3., 3.],\n         [3., 3., 3.,  ..., 3., 3., 3.],\n         [3., 3., 3.,  ..., 3., 3., 3.],\n         ...,\n         [3., 3., 3.,  ..., 3., 3., 3.],\n         [3., 3., 3.,  ..., 3., 3., 3.],\n         [3., 3., 3.,  ..., 3., 3., 3.]],\n\n        [[3., 3., 3.,  ..., 3., 3., 3.],\n         [3., 3., 3.,  ..., 3., 3., 3.],\n         [3., 3., 3.,  ..., 3., 3., 3.],\n         ...,\n         [3., 3., 3.,  ..., 3., 3., 3.],\n         [3., 3., 3.,  ..., 3., 3., 3.],\n         [3., 3., 3.,  ..., 3., 3., 3.]],\n\n        [[3., 3., 3.,  ..., 3., 3., 3.],\n         [3., 3., 3.,  ..., 3., 3., 3.],\n         [3., 3., 3.,  ..., 3., 3., 3.],\n         ...,\n         [3., 3., 3.,  ..., 3., 3., 3.],\n         [3., 3., 3.,  ..., 3., 3., 3.],\n         [3., 3., 3.,  ..., 3., 3., 3.]],\n\n        ...,\n\n        [[3., 3., 3.,  ..., 3., 3., 3.],\n         [3., 3., 3.,  ..., 3., 3., 3.],\n         [3., 3., 3.,  ..., 3., 3., 3.],\n         ...,\n         [3., 3., 3.,  ..., 3., 3., 3.],\n         [3., 3., 3.,  ..., 3., 3., 3.],\n         [3., 3., 3.,  ..., 3., 3., 3.]],\n\n        [[3., 3., 3.,  ..., 3., 3., 3.],\n         [3., 3., 3.,  ..., 3., 3., 3.],\n         [3., 3., 3.,  ..., 3., 3., 3.],\n         ...,\n         [3., 3., 3.,  ..., 3., 3., 3.],\n         [3., 3., 3.,  ..., 3., 3., 3.],\n         [3., 3., 3.,  ..., 3., 3., 3.]],\n\n        [[3., 3., 3.,  ..., 3., 3., 3.],\n         [3., 3., 3.,  ..., 3., 3., 3.],\n         [3., 3., 3.,  ..., 3., 3., 3.],\n         ...,\n         [3., 3., 3.,  ..., 3., 3., 3.],\n         [3., 3., 3.,  ..., 3., 3., 3.],\n         [3., 3., 3.,  ..., 3., 3., 3.]]])"
     },
     "execution_count": 43,
     "metadata": {},
     "output_type": "execute_result"
    }
   ],
   "source": [
    "b[:,1]"
   ],
   "metadata": {
    "collapsed": false,
    "ExecuteTime": {
     "end_time": "2023-07-26T06:32:36.116791011Z",
     "start_time": "2023-07-26T06:32:36.110639945Z"
    }
   }
  },
  {
   "cell_type": "code",
   "execution_count": null,
   "outputs": [],
   "source": [],
   "metadata": {
    "collapsed": false
   }
  },
  {
   "cell_type": "code",
   "execution_count": null,
   "outputs": [],
   "source": [],
   "metadata": {
    "collapsed": false
   }
  },
  {
   "cell_type": "code",
   "execution_count": null,
   "outputs": [],
   "source": [],
   "metadata": {
    "collapsed": false
   }
  },
  {
   "cell_type": "code",
   "execution_count": null,
   "outputs": [],
   "source": [],
   "metadata": {
    "collapsed": false
   }
  },
  {
   "cell_type": "code",
   "execution_count": 1,
   "outputs": [],
   "source": [
    "from skimage.io import imread"
   ],
   "metadata": {
    "collapsed": false,
    "ExecuteTime": {
     "end_time": "2023-07-28T11:00:06.205300985Z",
     "start_time": "2023-07-28T11:00:05.965835429Z"
    }
   }
  },
  {
   "cell_type": "code",
   "execution_count": 3,
   "outputs": [],
   "source": [
    "pred = imread(\"/home/yeep/project/py/mmseg/endovis/out/mask/0a1a2d4fc4ab9f7f19c8.png\")\n",
    "gt = imread(\"/home/yeep/project/py/mmseg/endovis/dataset-1/ann_dir/val/0a1a2d4fc4ab9f7f19c8.png\")"
   ],
   "metadata": {
    "collapsed": false,
    "ExecuteTime": {
     "end_time": "2023-07-28T11:00:15.274832434Z",
     "start_time": "2023-07-28T11:00:15.268034934Z"
    }
   }
  },
  {
   "cell_type": "code",
   "execution_count": 5,
   "outputs": [],
   "source": [
    "from pymic.util.evaluation_seg import binary_dice"
   ],
   "metadata": {
    "collapsed": false,
    "ExecuteTime": {
     "end_time": "2023-07-28T11:00:38.202882183Z",
     "start_time": "2023-07-28T11:00:36.930270869Z"
    }
   }
  },
  {
   "cell_type": "code",
   "execution_count": 7,
   "outputs": [
    {
     "name": "stdout",
     "output_type": "stream",
     "text": [
      "0.998372644307519\n",
      "0.9944684496764445\n",
      "0.9807311077707037\n",
      "0.9494402985546266\n"
     ]
    }
   ],
   "source": [
    "for i in range(4):\n",
    "    print(binary_dice(pred == i, gt == i))"
   ],
   "metadata": {
    "collapsed": false,
    "ExecuteTime": {
     "end_time": "2023-07-28T11:00:59.174077554Z",
     "start_time": "2023-07-28T11:00:59.168121276Z"
    }
   }
  },
  {
   "cell_type": "code",
   "execution_count": 2,
   "outputs": [],
   "source": [
    "import torch\n",
    "from torch.cuda.amp import autocast"
   ],
   "metadata": {
    "collapsed": false,
    "ExecuteTime": {
     "end_time": "2023-07-29T13:42:09.330004094Z",
     "start_time": "2023-07-29T13:42:08.526533393Z"
    }
   }
  },
  {
   "cell_type": "code",
   "execution_count": 4,
   "outputs": [
    {
     "name": "stdout",
     "output_type": "stream",
     "text": [
      "torch.float16\n",
      "torch.float32\n",
      "torch.cuda.HalfTensor\n"
     ]
    }
   ],
   "source": [
    "a = torch.randn(size=(16,2,2),device=\"cuda\")\n",
    "b = torch.randn(size=(16,2,2),device=\"cuda\")\n",
    "with autocast(enabled=True):\n",
    "    print(torch.bmm(a, b).dtype)\n",
    "    with autocast(enabled=False):\n",
    "        print(torch.bmm(a, b).dtype)"
   ],
   "metadata": {
    "collapsed": false,
    "ExecuteTime": {
     "end_time": "2023-07-29T13:46:27.611513803Z",
     "start_time": "2023-07-29T13:46:27.568829647Z"
    }
   }
  },
  {
   "cell_type": "code",
   "execution_count": 1,
   "outputs": [],
   "source": [
    "import numpy as np"
   ],
   "metadata": {
    "collapsed": false,
    "ExecuteTime": {
     "end_time": "2023-07-31T02:58:11.068965345Z",
     "start_time": "2023-07-31T02:58:11.007977570Z"
    }
   }
  },
  {
   "cell_type": "code",
   "execution_count": 9,
   "outputs": [],
   "source": [
    "a = np.array([[0.1,0.3,0.6]])"
   ],
   "metadata": {
    "collapsed": false,
    "ExecuteTime": {
     "end_time": "2023-07-31T02:59:36.740957232Z",
     "start_time": "2023-07-31T02:59:36.738997875Z"
    }
   }
  },
  {
   "cell_type": "code",
   "execution_count": 10,
   "outputs": [
    {
     "data": {
      "text/plain": "array([[0.01, 0.03, 0.06],\n       [0.03, 0.09, 0.18],\n       [0.06, 0.18, 0.36]])"
     },
     "execution_count": 10,
     "metadata": {},
     "output_type": "execute_result"
    }
   ],
   "source": [
    "np.multiply(a.T,a)"
   ],
   "metadata": {
    "collapsed": false,
    "ExecuteTime": {
     "end_time": "2023-07-31T02:59:36.966821634Z",
     "start_time": "2023-07-31T02:59:36.964699563Z"
    }
   }
  },
  {
   "cell_type": "code",
   "execution_count": 11,
   "outputs": [],
   "source": [
    "import SimpleITK as sitk"
   ],
   "metadata": {
    "collapsed": false,
    "ExecuteTime": {
     "end_time": "2023-07-31T03:03:05.591281493Z",
     "start_time": "2023-07-31T03:03:05.459593290Z"
    }
   }
  },
  {
   "cell_type": "code",
   "execution_count": 12,
   "outputs": [],
   "source": [
    "img_npy = sitk.GetArrayFromImage(sitk.ReadImage(\"/home/yeep/project/py/AL-ACDC/data/ACDCprecessed/valid/patient045_frame13.nii.gz\"))"
   ],
   "metadata": {
    "collapsed": false,
    "ExecuteTime": {
     "end_time": "2023-07-31T03:03:23.232244641Z",
     "start_time": "2023-07-31T03:03:23.195382731Z"
    }
   }
  },
  {
   "cell_type": "code",
   "execution_count": 14,
   "outputs": [
    {
     "data": {
      "text/plain": "(8, 256, 208)"
     },
     "execution_count": 14,
     "metadata": {},
     "output_type": "execute_result"
    }
   ],
   "source": [
    "img_npy.shape"
   ],
   "metadata": {
    "collapsed": false,
    "ExecuteTime": {
     "end_time": "2023-07-31T03:03:29.812142777Z",
     "start_time": "2023-07-31T03:03:29.809285502Z"
    }
   }
  },
  {
   "cell_type": "code",
   "execution_count": null,
   "outputs": [],
   "source": [],
   "metadata": {
    "collapsed": false
   }
  }
 ],
 "metadata": {
  "kernelspec": {
   "display_name": "Python 3",
   "language": "python",
   "name": "python3"
  },
  "language_info": {
   "codemirror_mode": {
    "name": "ipython",
    "version": 2
   },
   "file_extension": ".py",
   "mimetype": "text/x-python",
   "name": "python",
   "nbconvert_exporter": "python",
   "pygments_lexer": "ipython2",
   "version": "2.7.6"
  }
 },
 "nbformat": 4,
 "nbformat_minor": 0
}
