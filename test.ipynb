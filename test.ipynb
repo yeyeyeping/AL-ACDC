{
 "cells": [
  {
   "cell_type": "code",
   "execution_count": 51,
   "metadata": {
    "collapsed": true,
    "ExecuteTime": {
     "end_time": "2023-07-21T15:22:52.261856522Z",
     "start_time": "2023-07-21T15:22:52.221343675Z"
    }
   },
   "outputs": [],
   "source": [
    "import pathlib\n",
    "from pathlib import Path"
   ]
  },
  {
   "cell_type": "code",
   "execution_count": 52,
   "outputs": [],
   "source": [
    "p = pathlib.Path(\"/home/yeep/project/py/AL-ACDC/data/ISIC/images\")"
   ],
   "metadata": {
    "collapsed": false,
    "ExecuteTime": {
     "end_time": "2023-07-21T15:22:52.508634777Z",
     "start_time": "2023-07-21T15:22:52.506896586Z"
    }
   }
  },
  {
   "cell_type": "code",
   "execution_count": 53,
   "outputs": [
    {
     "data": {
      "text/plain": "2594"
     },
     "execution_count": 53,
     "metadata": {},
     "output_type": "execute_result"
    }
   ],
   "source": [
    "len(list(p.glob(\"*.jpg\")))"
   ],
   "metadata": {
    "collapsed": false,
    "ExecuteTime": {
     "end_time": "2023-07-21T15:22:52.733338698Z",
     "start_time": "2023-07-21T15:22:52.728865003Z"
    }
   }
  },
  {
   "cell_type": "code",
   "execution_count": 54,
   "outputs": [],
   "source": [
    "from skimage.io import imread\n",
    "import numpy as np"
   ],
   "metadata": {
    "collapsed": false,
    "ExecuteTime": {
     "end_time": "2023-07-21T15:22:52.962824783Z",
     "start_time": "2023-07-21T15:22:52.961249051Z"
    }
   }
  },
  {
   "cell_type": "code",
   "execution_count": 55,
   "outputs": [],
   "source": [
    "p = list(Path(\"/home/yeep/project/py/AL-ACDC/data/ISIC/images\").glob(\"*.jpg\"))\n",
    "num_data = len(p)"
   ],
   "metadata": {
    "collapsed": false,
    "ExecuteTime": {
     "end_time": "2023-07-21T15:22:53.229046480Z",
     "start_time": "2023-07-21T15:22:53.224018024Z"
    }
   }
  },
  {
   "cell_type": "code",
   "execution_count": 56,
   "outputs": [
    {
     "data": {
      "text/plain": "2594"
     },
     "execution_count": 56,
     "metadata": {},
     "output_type": "execute_result"
    }
   ],
   "source": [
    "num_data"
   ],
   "metadata": {
    "collapsed": false,
    "ExecuteTime": {
     "end_time": "2023-07-21T15:22:53.605784878Z",
     "start_time": "2023-07-21T15:22:53.602773548Z"
    }
   }
  },
  {
   "cell_type": "code",
   "execution_count": 57,
   "outputs": [],
   "source": [
    "train, val = 0.7, 0.2\n",
    "train, val = int(num_data * train), int(num_data * val)\n",
    "test = num_data - train - val"
   ],
   "metadata": {
    "collapsed": false,
    "ExecuteTime": {
     "end_time": "2023-07-21T15:22:53.946460751Z",
     "start_time": "2023-07-21T15:22:53.941614587Z"
    }
   }
  },
  {
   "cell_type": "code",
   "execution_count": 58,
   "outputs": [
    {
     "data": {
      "text/plain": "(1815, 518, 261)"
     },
     "execution_count": 58,
     "metadata": {},
     "output_type": "execute_result"
    }
   ],
   "source": [
    "train,val,test"
   ],
   "metadata": {
    "collapsed": false,
    "ExecuteTime": {
     "end_time": "2023-07-21T15:22:54.688438125Z",
     "start_time": "2023-07-21T15:22:54.686450532Z"
    }
   }
  },
  {
   "cell_type": "code",
   "execution_count": 59,
   "outputs": [],
   "source": [
    "train, val, test = p[:train], p[train:train + val], p[train + val:train + val + test]"
   ],
   "metadata": {
    "collapsed": false,
    "ExecuteTime": {
     "end_time": "2023-07-21T15:22:55.405356902Z",
     "start_time": "2023-07-21T15:22:55.400721876Z"
    }
   }
  },
  {
   "cell_type": "code",
   "execution_count": 60,
   "outputs": [],
   "source": [
    "import shutil"
   ],
   "metadata": {
    "collapsed": false,
    "ExecuteTime": {
     "end_time": "2023-07-21T15:22:55.946079302Z",
     "start_time": "2023-07-21T15:22:55.942287859Z"
    }
   }
  },
  {
   "cell_type": "code",
   "execution_count": 63,
   "outputs": [],
   "source": [
    "for img in train:\n",
    "    shutil.copy(img, \"/home/yeep/project/py/AL-ACDC/data/ISICPreprocessed/train/images/\"+img.name)\n",
    "    mask_name = img.name[:-4]+\"_segmentation.png\"\n",
    "    shutil.copy(\"/home/yeep/project/py/AL-ACDC/data/ISIC/mask/\"+mask_name,\"/home/yeep/project/py/AL-ACDC/data/ISICPreprocessed/train/mask/\"+mask_name)"
   ],
   "metadata": {
    "collapsed": false,
    "ExecuteTime": {
     "end_time": "2023-07-21T15:24:52.847536844Z",
     "start_time": "2023-07-21T15:24:40.380170723Z"
    }
   }
  },
  {
   "cell_type": "code",
   "execution_count": 64,
   "outputs": [],
   "source": [
    "for img in val:\n",
    "    shutil.copy(img, \"/home/yeep/project/py/AL-ACDC/data/ISICPreprocessed/val/images/\"+img.name)\n",
    "    mask_name = img.name[:-4]+\"_segmentation.png\"\n",
    "    shutil.copy(\"/home/yeep/project/py/AL-ACDC/data/ISIC/mask/\"+mask_name,\"/home/yeep/project/py/AL-ACDC/data/ISICPreprocessed/val/mask/\"+mask_name)"
   ],
   "metadata": {
    "collapsed": false,
    "ExecuteTime": {
     "end_time": "2023-07-21T15:24:56.467764326Z",
     "start_time": "2023-07-21T15:24:52.927274602Z"
    }
   }
  },
  {
   "cell_type": "code",
   "execution_count": 65,
   "outputs": [],
   "source": [
    "for img in test:\n",
    "    shutil.copy(img, \"/home/yeep/project/py/AL-ACDC/data/ISICPreprocessed/test/images/\"+img.name)\n",
    "    mask_name = img.name[:-4]+\"_segmentation.png\"\n",
    "    shutil.copy(\"/home/yeep/project/py/AL-ACDC/data/ISIC/mask/\"+mask_name,\"/home/yeep/project/py/AL-ACDC/data/ISICPreprocessed/test/mask/\"+mask_name)"
   ],
   "metadata": {
    "collapsed": false,
    "ExecuteTime": {
     "end_time": "2023-07-21T15:24:58.257627231Z",
     "start_time": "2023-07-21T15:24:56.469120905Z"
    }
   }
  },
  {
   "cell_type": "code",
   "execution_count": null,
   "outputs": [],
   "source": [
    "from torchvision.transforms import"
   ],
   "metadata": {
    "collapsed": false
   }
  }
 ],
 "metadata": {
  "kernelspec": {
   "display_name": "Python 3",
   "language": "python",
   "name": "python3"
  },
  "language_info": {
   "codemirror_mode": {
    "name": "ipython",
    "version": 2
   },
   "file_extension": ".py",
   "mimetype": "text/x-python",
   "name": "python",
   "nbconvert_exporter": "python",
   "pygments_lexer": "ipython2",
   "version": "2.7.6"
  }
 },
 "nbformat": 4,
 "nbformat_minor": 0
}
